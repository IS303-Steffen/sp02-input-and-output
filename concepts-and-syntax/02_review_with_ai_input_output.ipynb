{
 "cells": [
  {
   "cell_type": "markdown",
   "id": "25a58b15",
   "metadata": {},
   "source": [
    "\n",
    "# Review with AI: Input and Output\n",
    "\n",
    "Use this notebook to strengthen your understanding of how Python handles input, output, escape characters, data conversion, and concatenation.\n",
    "\n",
    "### How to use this notebook:\n",
    "- **Copy and paste** the provided prompts and questions into your preferred AI tool (such as ChatGPT or Copilot).\n",
    "- **Check your understanding** by explaining concepts in your own words and letting AI correct or clarify your explanations.\n",
    "- **Generate practice problems** using the suggested prompts and attempt solving them.\n"
   ]
  },
  {
   "cell_type": "markdown",
   "id": "eddf6b9e",
   "metadata": {},
   "source": [
    "\n",
    "## AI Setup Prompt\n",
    "\n",
    "First, paste this setup prompt into your AI to ensure clear and helpful guidance:\n",
    "\n",
    "```\n",
    "I am a student in an introductory Python programming course. When I ask questions or describe concepts, respond as my personal tutor. Provide concise, clear explanations in simple language, gently correct my mistakes, and use relatable examples or metaphors. Let me know what I'm understanding well and what I might need to improve or clarify.\n",
    "```\n"
   ]
  },
  {
   "cell_type": "markdown",
   "id": "d1b32443",
   "metadata": {},
   "source": [
    "\n",
    "## Questions to Review Concepts\n",
    "\n",
    "Ask your AI tutor these questions to solidify your understanding:\n",
    "\n",
    "- How does the `input()` function work in Python?\n",
    "- Why might I need to convert data types after using `input()`?\n",
    "- What are escape characters, and when are they useful?\n",
    "- What is concatenation, and what are some ways to concatenate strings in Python?\n",
    "- Why are f-strings often preferred for concatenation?\n"
   ]
  },
  {
   "cell_type": "markdown",
   "id": "595b0f01",
   "metadata": {},
   "source": [
    "\n",
    "## Check Your Understanding\n",
    "\n",
    "Explain the following concepts in your own words to the AI and let it correct or clarify any misunderstandings:\n",
    "\n",
    "- Getting user input with `input()`\n",
    "- Converting input data to a different type (like converting strings to integers or floats)\n",
    "- Using escape characters in output\n",
    "- The difference between concatenating strings with `+` and using f-strings\n"
   ]
  },
  {
   "cell_type": "markdown",
   "id": "472518b1",
   "metadata": {},
   "source": [
    "\n",
    "## Generate Your Own Practice Questions\n",
    "\n",
    "Use the following prompt to have AI create personalized practice problems for you. After solving, have AI review your answers:\n",
    "\n",
    "```\n",
    "I am a beginner Python student currently learning about input, output, escape characters, data type conversion, and concatenation (including f-strings). Please create two clear and simple practice problems for me—one focusing on getting user input and converting data types, and another on using f-strings for output. Provide only the problems without solutions. After attempting them, I'll share my code with you to check if my solutions are correct.\n",
    "```\n"
   ]
  }
 ],
 "metadata": {},
 "nbformat": 4,
 "nbformat_minor": 5
}

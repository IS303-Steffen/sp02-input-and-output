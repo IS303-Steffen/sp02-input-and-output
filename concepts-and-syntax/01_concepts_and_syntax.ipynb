{
 "cells": [
  {
   "cell_type": "markdown",
   "id": "5684058b",
   "metadata": {},
   "source": [
    "\n",
    "# Syntax & Concepts: Input and Output\n",
    "\n",
    "### Before Class:\n",
    "\n",
    "1. **Read this notebook and attempt each \"You Try\" section.**\n",
    "    - Need help? Check the AI tips or your textbook.\n",
    "\n",
    "2. **Complete at least one practice problem from this chapter.**\n",
    "    - Problems are ordered from easiest to hardest.\n",
    "    - Stuck? Copy and paste the instructions and AI prompt into your preferred AI service for guided help.\n",
    "\n",
    "3. **Submit your attempted practice problem code in the \"Class Prep Report\" on Learning Suite for credit.**\n",
    "\n",
    "#### Need more explanation? Copy and paste this AI prompt along with any code you have questions about:\n",
    "(Double-click the text below, then copy and paste it into your AI service.)\n",
    "\n",
    "```\n",
    "I am new to Python and just starting to learn coding. I need simple, clear explanations. When I ask a question or show my code, act like my personal tutor: correct mistakes gently, clarify misconceptions, and use easy-to-follow language. Feel free to use examples or metaphors to help me understand. Let me know when I'm doing well or what I need to adjust.\n",
    "```\n"
   ]
  },
  {
   "cell_type": "markdown",
   "id": "5e4aa6a4",
   "metadata": {},
   "source": [
    "\n",
    "### Chapter Summary\n",
    "In this chapter, you'll learn how to get information from a user (input), display information clearly on the screen (output), format your output nicely, and combine pieces of information (concatenate). These skills are essential for interacting with users and creating meaningful Python programs.\n"
   ]
  },
  {
   "cell_type": "markdown",
   "id": "06b26df1",
   "metadata": {},
   "source": [
    "\n",
    "## 1: Getting User Input with `input()`\n",
    "The `input()` function allows you to ask the user to enter data into your program.\n"
   ]
  },
  {
   "cell_type": "code",
   "execution_count": null,
   "id": "af9ecc62",
   "metadata": {},
   "outputs": [],
   "source": [
    "name = input(\"What's your name? \")\n",
    "print(\"Hello,\", name)"
   ]
  },
  {
   "cell_type": "markdown",
   "id": "80901cab",
   "metadata": {},
   "source": [
    "\n",
    "### 1.p: You Try\n",
    "Ask the user for their favorite color, and print a message including their response.\n"
   ]
  },
  {
   "cell_type": "code",
   "execution_count": null,
   "id": "4cde1d17",
   "metadata": {},
   "outputs": [],
   "source": [
    "# Your code here\n"
   ]
  },
  {
   "cell_type": "markdown",
   "id": "9b8e98fa",
   "metadata": {},
   "source": [
    "\n",
    "## 2: Escape Characters and Sequences\n",
    "Escape characters help you format output in special ways, such as creating new lines or tabs.\n"
   ]
  },
  {
   "cell_type": "code",
   "execution_count": null,
   "id": "0ee83f72",
   "metadata": {},
   "outputs": [],
   "source": [
    "print(\"Hello\\nWorld!\")  # \\n creates a new line"
   ]
  },
  {
   "cell_type": "markdown",
   "id": "54e152c0",
   "metadata": {},
   "source": [
    "\n",
    "### 2.p: You Try\n",
    "Use escape characters to print a sentence split over two lines, and another sentence with a tab space.\n"
   ]
  },
  {
   "cell_type": "code",
   "execution_count": null,
   "id": "44d9bd90",
   "metadata": {},
   "outputs": [],
   "source": [
    "# Your code here\n"
   ]
  },
  {
   "cell_type": "markdown",
   "id": "2130781b",
   "metadata": {},
   "source": [
    "\n",
    "## 3: Concatenation\n",
    "Concatenation is the process of combining strings (text) together.\n"
   ]
  },
  {
   "cell_type": "markdown",
   "id": "d4ce545d",
   "metadata": {},
   "source": [
    "\n",
    "### 3.1: Concatenating with `+`\n",
    "Combine strings by using the `+` operator between them.\n"
   ]
  },
  {
   "cell_type": "code",
   "execution_count": null,
   "id": "0747c4e3",
   "metadata": {},
   "outputs": [],
   "source": [
    "first_name = \"Taylor\"\n",
    "last_name = \"Swift\"\n",
    "full_name = first_name + \" \" + last_name\n",
    "print(full_name)"
   ]
  },
  {
   "cell_type": "markdown",
   "id": "5c93bf56",
   "metadata": {},
   "source": [
    "\n",
    "### 3.1.p: You Try\n",
    "Use `+` to concatenate your first name, your favorite food, and your favorite color, then print the result.\n"
   ]
  },
  {
   "cell_type": "code",
   "execution_count": null,
   "id": "9986ff21",
   "metadata": {},
   "outputs": [],
   "source": [
    "# Your code here\n"
   ]
  },
  {
   "cell_type": "markdown",
   "id": "8aa7f346",
   "metadata": {},
   "source": [
    "\n",
    "### 3.2: Concatenating with f-strings\n",
    "An f-string allows you to neatly insert variables directly into a string.\n"
   ]
  },
  {
   "cell_type": "code",
   "execution_count": null,
   "id": "b914af0b",
   "metadata": {},
   "outputs": [],
   "source": [
    "first_name = \"Taylor\"\n",
    "last_name = \"Swift\"\n",
    "print(f\"{first_name} {last_name} is a famous singer.\")"
   ]
  },
  {
   "cell_type": "markdown",
   "id": "72c76cf4",
   "metadata": {},
   "source": [
    "\n",
    "### 3.2.p: You Try\n",
    "Create a sentence using an f-string that includes your name, age, and something you enjoy doing.\n"
   ]
  },
  {
   "cell_type": "code",
   "execution_count": null,
   "id": "5c69f62c",
   "metadata": {},
   "outputs": [],
   "source": [
    "# Your code here\n"
   ]
  },
  {
   "cell_type": "markdown",
   "id": "0016206f",
   "metadata": {},
   "source": [
    "\n",
    "## 4: Combining Input and Output with f-strings\n",
    "Combine user input with f-strings for interactive and readable messages.\n"
   ]
  },
  {
   "cell_type": "code",
   "execution_count": null,
   "id": "7c238632",
   "metadata": {},
   "outputs": [],
   "source": [
    "city = input(\"Where are you from? \")\n",
    "print(f\"Nice! I've always wanted to visit {city}.\")"
   ]
  },
  {
   "cell_type": "markdown",
   "id": "e1356a24",
   "metadata": {},
   "source": [
    "\n",
    "### 4.p: You Try\n",
    "Use input() to ask for the user's favorite book and a place they'd like to visit. Combine them using an f-string to create a friendly message.\n"
   ]
  },
  {
   "cell_type": "code",
   "execution_count": null,
   "id": "c7b29721",
   "metadata": {},
   "outputs": [],
   "source": [
    "# Your code here\n"
   ]
  },
  {
   "cell_type": "markdown",
   "id": "87faebc6",
   "metadata": {},
   "source": [
    "\n",
    "## Want to Learn More?\n",
    "If you'd like extra help or more details, you can:\n",
    "- **Ask AI**: Use the suggested questions in the `review_with_ai` file.\n",
    "- **Read your textbook**: Check the reading guide on Learning Suite beforehand.\n",
    "- **Review class practice files**: They contain more detailed examples and explanations, available on Learning Suite.\n"
   ]
  }
 ],
 "metadata": {},
 "nbformat": 4,
 "nbformat_minor": 5
}
